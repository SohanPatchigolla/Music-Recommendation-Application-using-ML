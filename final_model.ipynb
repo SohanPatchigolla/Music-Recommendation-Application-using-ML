{
 "cells": [
  {
   "cell_type": "code",
   "execution_count": 5,
   "metadata": {},
   "outputs": [],
   "source": [
    "import numpy as np \n",
    "import pandas as pd\n",
    "import matplotlib.pyplot as plt \n",
    "import seaborn as sns\n",
    "from sklearn.cluster import KMeans \n",
    "from sklearn.preprocessing import scale\n",
    "%matplotlib inline"
   ]
  },
  {
   "cell_type": "code",
   "execution_count": 6,
   "metadata": {},
   "outputs": [],
   "source": [
    "dfm = pd.read_csv('song_cluster.csv')\n",
    "df = dfm[['name','artists', 'cluster']].copy()\n",
    "grouped = df.groupby(df.cluster) \n",
    "\n",
    "data = df.values"
   ]
  },
  {
   "cell_type": "code",
   "execution_count": 24,
   "metadata": {},
   "outputs": [
    {
     "name": "stdout",
     "output_type": "stream",
     "text": [
      "Enter a song name: \n"
     ]
    },
    {
     "name": "stdin",
     "output_type": "stream",
     "text": [
      " Blinding Lights\n"
     ]
    },
    {
     "name": "stdout",
     "output_type": "stream",
     "text": [
      "Song found, generating recommendations:\n",
      "Blinding Lights by 'The Weeknd'\n",
      "Recommendation  1: El Tiempo No Es Pa' Casorios - Remasterizado  by Francisco Canaro', 'Ernesto Fama\n",
      "Recommendation  2: I Won't Dance  by Oscar Peterson\n",
      "Recommendation  3: On The Sunny Side Of The Street  by Oscar Peterson\n",
      "Recommendation  4: La Virgen del Perdón - Remasterizado  by Ignacio Corsini\n",
      "Recommendation  5: Tolon Tolon  by Natalino Otto\n",
      "Do you want to type another song? (Y/N): \n"
     ]
    }
   ],
   "source": [
    "k = 5\n",
    "\n",
    "song_index = -1\n",
    "name_not_found = 0\n",
    "\n",
    "def model(si):\n",
    "    grouped = dfm.groupby(dfm.cluster) \n",
    "    df_temp = grouped.get_group(dfm.loc[si].cluster).copy()\n",
    "    mdf = df_temp[['acousticness','energy','loudness', 'year', 'popularity']].copy()\n",
    "    for i in mdf.columns:\n",
    "        mdf[i] = scale(mdf[i])\n",
    "    clusterNum = 10\n",
    "    k_means = KMeans(n_clusters = clusterNum, n_init = 5)\n",
    "    k_means.fit(mdf)\n",
    "    df_temp[\"cluster\"] = k_means.labels_\n",
    "    return df_temp\n",
    "\n",
    "name_list = list(data[:,0])\n",
    "while(1):\n",
    "    if(name_not_found == 0):\n",
    "        print('Enter a song name: ')\n",
    "    name = str(input())\n",
    "    if name in name_list:\n",
    "        print('Song found, generating recommendations:')\n",
    "        name_not_found = 0\n",
    "        song_index = name_list.index(name)\n",
    "        print(data[song_index][0], 'by', data[song_index][1][1:-1])\n",
    "        d = model(song_index)\n",
    "    else:\n",
    "        name_not_found = 1\n",
    "        print('Please enter a valid song name:')\n",
    "        continue\n",
    "    df_new = grouped.get_group(d.loc[song_index].cluster)\n",
    "    df1 = df_new.sample(n = k) \n",
    "    for i in range(k):\n",
    "        print(\"Recommendation \", i+1, end=\": \")\n",
    "        print(df1.iloc[i][0], \" by\", df1.iloc[i][1][2:-2])\n",
    "    print(\"Do you want to type another song? (Y/N): \")\n",
    "    ans = 'n' # str(input())\n",
    "    if(ans=='N' or ans=='n'):\n",
    "        break\n",
    "    else:\n",
    "        continue"
   ]
  }
 ],
 "metadata": {
  "kernelspec": {
   "display_name": "Python 3",
   "language": "python",
   "name": "python3"
  },
  "language_info": {
   "codemirror_mode": {
    "name": "ipython",
    "version": 3
   },
   "file_extension": ".py",
   "mimetype": "text/x-python",
   "name": "python",
   "nbconvert_exporter": "python",
   "pygments_lexer": "ipython3",
   "version": "3.7.6"
  }
 },
 "nbformat": 4,
 "nbformat_minor": 4
}
