{
 "cells": [
  {
   "cell_type": "markdown",
   "metadata": {},
   "source": [
    "# AI Tools Project"
   ]
  },
  {
   "cell_type": "markdown",
   "metadata": {},
   "source": [
    "The model uses KNN algorithm to cluster similar songs based on numerous song fearures."
   ]
  },
  {
   "cell_type": "markdown",
   "metadata": {},
   "source": [
    "## Import Libraries"
   ]
  },
  {
   "cell_type": "code",
   "execution_count": 2,
   "metadata": {},
   "outputs": [],
   "source": [
    "import numpy as np \n",
    "import pandas as pd\n",
    "import matplotlib.pyplot as plt \n",
    "import seaborn as sns\n",
    "from sklearn.cluster import KMeans \n",
    "from sklearn.preprocessing import scale\n",
    "%matplotlib inline"
   ]
  },
  {
   "cell_type": "markdown",
   "metadata": {},
   "source": [
    "## Load The Data"
   ]
  },
  {
   "cell_type": "code",
   "execution_count": 4,
   "metadata": {},
   "outputs": [
    {
     "data": {
      "text/plain": [
       "(169909, 19)"
      ]
     },
     "execution_count": 4,
     "metadata": {},
     "output_type": "execute_result"
    }
   ],
   "source": [
    "df = pd.read_csv('data.csv')\n",
    "df.shape"
   ]
  },
  {
   "cell_type": "code",
   "execution_count": 5,
   "metadata": {},
   "outputs": [
    {
     "data": {
      "text/plain": [
       "Index(['acousticness', 'artists', 'danceability', 'duration_ms', 'energy',\n",
       "       'explicit', 'id', 'instrumentalness', 'key', 'liveness', 'loudness',\n",
       "       'mode', 'name', 'popularity', 'release_date', 'speechiness', 'tempo',\n",
       "       'valence', 'year'],\n",
       "      dtype='object')"
      ]
     },
     "execution_count": 5,
     "metadata": {},
     "output_type": "execute_result"
    }
   ],
   "source": [
    "df.columns"
   ]
  },
  {
   "cell_type": "markdown",
   "metadata": {},
   "source": [
    "## Understand The Data"
   ]
  },
  {
   "cell_type": "code",
   "execution_count": 4,
   "metadata": {},
   "outputs": [
    {
     "data": {
      "text/html": [
       "<div>\n",
       "<style scoped>\n",
       "    .dataframe tbody tr th:only-of-type {\n",
       "        vertical-align: middle;\n",
       "    }\n",
       "\n",
       "    .dataframe tbody tr th {\n",
       "        vertical-align: top;\n",
       "    }\n",
       "\n",
       "    .dataframe thead th {\n",
       "        text-align: right;\n",
       "    }\n",
       "</style>\n",
       "<table border=\"1\" class=\"dataframe\">\n",
       "  <thead>\n",
       "    <tr style=\"text-align: right;\">\n",
       "      <th></th>\n",
       "      <th>acousticness</th>\n",
       "      <th>artists</th>\n",
       "      <th>danceability</th>\n",
       "      <th>duration_ms</th>\n",
       "      <th>energy</th>\n",
       "      <th>explicit</th>\n",
       "      <th>id</th>\n",
       "      <th>instrumentalness</th>\n",
       "      <th>key</th>\n",
       "      <th>liveness</th>\n",
       "      <th>loudness</th>\n",
       "      <th>mode</th>\n",
       "      <th>name</th>\n",
       "      <th>popularity</th>\n",
       "      <th>release_date</th>\n",
       "      <th>speechiness</th>\n",
       "      <th>tempo</th>\n",
       "      <th>valence</th>\n",
       "      <th>year</th>\n",
       "    </tr>\n",
       "  </thead>\n",
       "  <tbody>\n",
       "    <tr>\n",
       "      <th>0</th>\n",
       "      <td>0.995</td>\n",
       "      <td>['Carl Woitschach']</td>\n",
       "      <td>0.708</td>\n",
       "      <td>158648</td>\n",
       "      <td>0.1950</td>\n",
       "      <td>0</td>\n",
       "      <td>6KbQ3uYMLKb5jDxLF7wYDD</td>\n",
       "      <td>0.563</td>\n",
       "      <td>10</td>\n",
       "      <td>0.1510</td>\n",
       "      <td>-12.428</td>\n",
       "      <td>1</td>\n",
       "      <td>Singende Bataillone 1. Teil</td>\n",
       "      <td>0</td>\n",
       "      <td>1928</td>\n",
       "      <td>0.0506</td>\n",
       "      <td>118.469</td>\n",
       "      <td>0.7790</td>\n",
       "      <td>1928</td>\n",
       "    </tr>\n",
       "    <tr>\n",
       "      <th>1</th>\n",
       "      <td>0.994</td>\n",
       "      <td>['Robert Schumann', 'Vladimir Horowitz']</td>\n",
       "      <td>0.379</td>\n",
       "      <td>282133</td>\n",
       "      <td>0.0135</td>\n",
       "      <td>0</td>\n",
       "      <td>6KuQTIu1KoTTkLXKrwlLPV</td>\n",
       "      <td>0.901</td>\n",
       "      <td>8</td>\n",
       "      <td>0.0763</td>\n",
       "      <td>-28.454</td>\n",
       "      <td>1</td>\n",
       "      <td>Fantasiestücke, Op. 111: Più tosto lento</td>\n",
       "      <td>0</td>\n",
       "      <td>1928</td>\n",
       "      <td>0.0462</td>\n",
       "      <td>83.972</td>\n",
       "      <td>0.0767</td>\n",
       "      <td>1928</td>\n",
       "    </tr>\n",
       "    <tr>\n",
       "      <th>2</th>\n",
       "      <td>0.604</td>\n",
       "      <td>['Seweryn Goszczyński']</td>\n",
       "      <td>0.749</td>\n",
       "      <td>104300</td>\n",
       "      <td>0.2200</td>\n",
       "      <td>0</td>\n",
       "      <td>6L63VW0PibdM1HDSBoqnoM</td>\n",
       "      <td>0.000</td>\n",
       "      <td>5</td>\n",
       "      <td>0.1190</td>\n",
       "      <td>-19.924</td>\n",
       "      <td>0</td>\n",
       "      <td>Chapter 1.18 - Zamek kaniowski</td>\n",
       "      <td>0</td>\n",
       "      <td>1928</td>\n",
       "      <td>0.9290</td>\n",
       "      <td>107.177</td>\n",
       "      <td>0.8800</td>\n",
       "      <td>1928</td>\n",
       "    </tr>\n",
       "    <tr>\n",
       "      <th>3</th>\n",
       "      <td>0.995</td>\n",
       "      <td>['Francisco Canaro']</td>\n",
       "      <td>0.781</td>\n",
       "      <td>180760</td>\n",
       "      <td>0.1300</td>\n",
       "      <td>0</td>\n",
       "      <td>6M94FkXd15sOAOQYRnWPN8</td>\n",
       "      <td>0.887</td>\n",
       "      <td>1</td>\n",
       "      <td>0.1110</td>\n",
       "      <td>-14.734</td>\n",
       "      <td>0</td>\n",
       "      <td>Bebamos Juntos - Instrumental (Remasterizado)</td>\n",
       "      <td>0</td>\n",
       "      <td>1928-09-25</td>\n",
       "      <td>0.0926</td>\n",
       "      <td>108.003</td>\n",
       "      <td>0.7200</td>\n",
       "      <td>1928</td>\n",
       "    </tr>\n",
       "    <tr>\n",
       "      <th>4</th>\n",
       "      <td>0.990</td>\n",
       "      <td>['Frédéric Chopin', 'Vladimir Horowitz']</td>\n",
       "      <td>0.210</td>\n",
       "      <td>687733</td>\n",
       "      <td>0.2040</td>\n",
       "      <td>0</td>\n",
       "      <td>6N6tiFZ9vLTSOIxkj8qKrd</td>\n",
       "      <td>0.908</td>\n",
       "      <td>11</td>\n",
       "      <td>0.0980</td>\n",
       "      <td>-16.829</td>\n",
       "      <td>1</td>\n",
       "      <td>Polonaise-Fantaisie in A-Flat Major, Op. 61</td>\n",
       "      <td>1</td>\n",
       "      <td>1928</td>\n",
       "      <td>0.0424</td>\n",
       "      <td>62.149</td>\n",
       "      <td>0.0693</td>\n",
       "      <td>1928</td>\n",
       "    </tr>\n",
       "  </tbody>\n",
       "</table>\n",
       "</div>"
      ],
      "text/plain": [
       "   acousticness                                   artists  danceability  \\\n",
       "0         0.995                       ['Carl Woitschach']         0.708   \n",
       "1         0.994  ['Robert Schumann', 'Vladimir Horowitz']         0.379   \n",
       "2         0.604                   ['Seweryn Goszczyński']         0.749   \n",
       "3         0.995                      ['Francisco Canaro']         0.781   \n",
       "4         0.990  ['Frédéric Chopin', 'Vladimir Horowitz']         0.210   \n",
       "\n",
       "   duration_ms  energy  explicit                      id  instrumentalness  \\\n",
       "0       158648  0.1950         0  6KbQ3uYMLKb5jDxLF7wYDD             0.563   \n",
       "1       282133  0.0135         0  6KuQTIu1KoTTkLXKrwlLPV             0.901   \n",
       "2       104300  0.2200         0  6L63VW0PibdM1HDSBoqnoM             0.000   \n",
       "3       180760  0.1300         0  6M94FkXd15sOAOQYRnWPN8             0.887   \n",
       "4       687733  0.2040         0  6N6tiFZ9vLTSOIxkj8qKrd             0.908   \n",
       "\n",
       "   key  liveness  loudness  mode  \\\n",
       "0   10    0.1510   -12.428     1   \n",
       "1    8    0.0763   -28.454     1   \n",
       "2    5    0.1190   -19.924     0   \n",
       "3    1    0.1110   -14.734     0   \n",
       "4   11    0.0980   -16.829     1   \n",
       "\n",
       "                                            name  popularity release_date  \\\n",
       "0                    Singende Bataillone 1. Teil           0         1928   \n",
       "1       Fantasiestücke, Op. 111: Più tosto lento           0         1928   \n",
       "2                 Chapter 1.18 - Zamek kaniowski           0         1928   \n",
       "3  Bebamos Juntos - Instrumental (Remasterizado)           0   1928-09-25   \n",
       "4    Polonaise-Fantaisie in A-Flat Major, Op. 61           1         1928   \n",
       "\n",
       "   speechiness    tempo  valence  year  \n",
       "0       0.0506  118.469   0.7790  1928  \n",
       "1       0.0462   83.972   0.0767  1928  \n",
       "2       0.9290  107.177   0.8800  1928  \n",
       "3       0.0926  108.003   0.7200  1928  \n",
       "4       0.0424   62.149   0.0693  1928  "
      ]
     },
     "execution_count": 4,
     "metadata": {},
     "output_type": "execute_result"
    }
   ],
   "source": [
    "df.head()"
   ]
  },
  {
   "cell_type": "code",
   "execution_count": 5,
   "metadata": {
    "collapsed": true,
    "jupyter": {
     "outputs_hidden": true
    }
   },
   "outputs": [
    {
     "name": "stdout",
     "output_type": "stream",
     "text": [
      "<class 'pandas.core.frame.DataFrame'>\n",
      "RangeIndex: 169909 entries, 0 to 169908\n",
      "Data columns (total 19 columns):\n",
      " #   Column            Non-Null Count   Dtype  \n",
      "---  ------            --------------   -----  \n",
      " 0   acousticness      169909 non-null  float64\n",
      " 1   artists           169909 non-null  object \n",
      " 2   danceability      169909 non-null  float64\n",
      " 3   duration_ms       169909 non-null  int64  \n",
      " 4   energy            169909 non-null  float64\n",
      " 5   explicit          169909 non-null  int64  \n",
      " 6   id                169909 non-null  object \n",
      " 7   instrumentalness  169909 non-null  float64\n",
      " 8   key               169909 non-null  int64  \n",
      " 9   liveness          169909 non-null  float64\n",
      " 10  loudness          169909 non-null  float64\n",
      " 11  mode              169909 non-null  int64  \n",
      " 12  name              169909 non-null  object \n",
      " 13  popularity        169909 non-null  int64  \n",
      " 14  release_date      169909 non-null  object \n",
      " 15  speechiness       169909 non-null  float64\n",
      " 16  tempo             169909 non-null  float64\n",
      " 17  valence           169909 non-null  float64\n",
      " 18  year              169909 non-null  int64  \n",
      "dtypes: float64(9), int64(6), object(4)\n",
      "memory usage: 24.6+ MB\n"
     ]
    }
   ],
   "source": [
    "df.info()"
   ]
  },
  {
   "cell_type": "code",
   "execution_count": 6,
   "metadata": {},
   "outputs": [
    {
     "data": {
      "text/html": [
       "<div>\n",
       "<style scoped>\n",
       "    .dataframe tbody tr th:only-of-type {\n",
       "        vertical-align: middle;\n",
       "    }\n",
       "\n",
       "    .dataframe tbody tr th {\n",
       "        vertical-align: top;\n",
       "    }\n",
       "\n",
       "    .dataframe thead th {\n",
       "        text-align: right;\n",
       "    }\n",
       "</style>\n",
       "<table border=\"1\" class=\"dataframe\">\n",
       "  <thead>\n",
       "    <tr style=\"text-align: right;\">\n",
       "      <th></th>\n",
       "      <th>acousticness</th>\n",
       "      <th>danceability</th>\n",
       "      <th>duration_ms</th>\n",
       "      <th>energy</th>\n",
       "      <th>explicit</th>\n",
       "      <th>instrumentalness</th>\n",
       "      <th>key</th>\n",
       "      <th>liveness</th>\n",
       "      <th>loudness</th>\n",
       "      <th>mode</th>\n",
       "      <th>popularity</th>\n",
       "      <th>speechiness</th>\n",
       "      <th>tempo</th>\n",
       "      <th>valence</th>\n",
       "      <th>year</th>\n",
       "    </tr>\n",
       "  </thead>\n",
       "  <tbody>\n",
       "    <tr>\n",
       "      <th>count</th>\n",
       "      <td>169909.000000</td>\n",
       "      <td>169909.000000</td>\n",
       "      <td>1.699090e+05</td>\n",
       "      <td>169909.000000</td>\n",
       "      <td>169909.000000</td>\n",
       "      <td>169909.000000</td>\n",
       "      <td>169909.000000</td>\n",
       "      <td>169909.000000</td>\n",
       "      <td>169909.000000</td>\n",
       "      <td>169909.000000</td>\n",
       "      <td>169909.000000</td>\n",
       "      <td>169909.000000</td>\n",
       "      <td>169909.000000</td>\n",
       "      <td>169909.000000</td>\n",
       "      <td>169909.000000</td>\n",
       "    </tr>\n",
       "    <tr>\n",
       "      <th>mean</th>\n",
       "      <td>0.493214</td>\n",
       "      <td>0.538150</td>\n",
       "      <td>2.314062e+05</td>\n",
       "      <td>0.488593</td>\n",
       "      <td>0.084863</td>\n",
       "      <td>0.161937</td>\n",
       "      <td>5.200519</td>\n",
       "      <td>0.206690</td>\n",
       "      <td>-11.370289</td>\n",
       "      <td>0.708556</td>\n",
       "      <td>31.556610</td>\n",
       "      <td>0.094058</td>\n",
       "      <td>116.948017</td>\n",
       "      <td>0.532095</td>\n",
       "      <td>1977.223231</td>\n",
       "    </tr>\n",
       "    <tr>\n",
       "      <th>std</th>\n",
       "      <td>0.376627</td>\n",
       "      <td>0.175346</td>\n",
       "      <td>1.213219e+05</td>\n",
       "      <td>0.267390</td>\n",
       "      <td>0.278679</td>\n",
       "      <td>0.309329</td>\n",
       "      <td>3.515257</td>\n",
       "      <td>0.176796</td>\n",
       "      <td>5.666765</td>\n",
       "      <td>0.454429</td>\n",
       "      <td>21.582614</td>\n",
       "      <td>0.149937</td>\n",
       "      <td>30.726937</td>\n",
       "      <td>0.262408</td>\n",
       "      <td>25.593168</td>\n",
       "    </tr>\n",
       "    <tr>\n",
       "      <th>min</th>\n",
       "      <td>0.000000</td>\n",
       "      <td>0.000000</td>\n",
       "      <td>5.108000e+03</td>\n",
       "      <td>0.000000</td>\n",
       "      <td>0.000000</td>\n",
       "      <td>0.000000</td>\n",
       "      <td>0.000000</td>\n",
       "      <td>0.000000</td>\n",
       "      <td>-60.000000</td>\n",
       "      <td>0.000000</td>\n",
       "      <td>0.000000</td>\n",
       "      <td>0.000000</td>\n",
       "      <td>0.000000</td>\n",
       "      <td>0.000000</td>\n",
       "      <td>1921.000000</td>\n",
       "    </tr>\n",
       "    <tr>\n",
       "      <th>25%</th>\n",
       "      <td>0.094500</td>\n",
       "      <td>0.417000</td>\n",
       "      <td>1.710400e+05</td>\n",
       "      <td>0.263000</td>\n",
       "      <td>0.000000</td>\n",
       "      <td>0.000000</td>\n",
       "      <td>2.000000</td>\n",
       "      <td>0.098400</td>\n",
       "      <td>-14.470000</td>\n",
       "      <td>0.000000</td>\n",
       "      <td>12.000000</td>\n",
       "      <td>0.034900</td>\n",
       "      <td>93.516000</td>\n",
       "      <td>0.322000</td>\n",
       "      <td>1957.000000</td>\n",
       "    </tr>\n",
       "    <tr>\n",
       "      <th>50%</th>\n",
       "      <td>0.492000</td>\n",
       "      <td>0.548000</td>\n",
       "      <td>2.086000e+05</td>\n",
       "      <td>0.481000</td>\n",
       "      <td>0.000000</td>\n",
       "      <td>0.000204</td>\n",
       "      <td>5.000000</td>\n",
       "      <td>0.135000</td>\n",
       "      <td>-10.474000</td>\n",
       "      <td>1.000000</td>\n",
       "      <td>33.000000</td>\n",
       "      <td>0.045000</td>\n",
       "      <td>114.778000</td>\n",
       "      <td>0.544000</td>\n",
       "      <td>1978.000000</td>\n",
       "    </tr>\n",
       "    <tr>\n",
       "      <th>75%</th>\n",
       "      <td>0.888000</td>\n",
       "      <td>0.667000</td>\n",
       "      <td>2.629600e+05</td>\n",
       "      <td>0.710000</td>\n",
       "      <td>0.000000</td>\n",
       "      <td>0.086800</td>\n",
       "      <td>8.000000</td>\n",
       "      <td>0.263000</td>\n",
       "      <td>-7.118000</td>\n",
       "      <td>1.000000</td>\n",
       "      <td>48.000000</td>\n",
       "      <td>0.075400</td>\n",
       "      <td>135.712000</td>\n",
       "      <td>0.749000</td>\n",
       "      <td>1999.000000</td>\n",
       "    </tr>\n",
       "    <tr>\n",
       "      <th>max</th>\n",
       "      <td>0.996000</td>\n",
       "      <td>0.988000</td>\n",
       "      <td>5.403500e+06</td>\n",
       "      <td>1.000000</td>\n",
       "      <td>1.000000</td>\n",
       "      <td>1.000000</td>\n",
       "      <td>11.000000</td>\n",
       "      <td>1.000000</td>\n",
       "      <td>3.855000</td>\n",
       "      <td>1.000000</td>\n",
       "      <td>100.000000</td>\n",
       "      <td>0.969000</td>\n",
       "      <td>244.091000</td>\n",
       "      <td>1.000000</td>\n",
       "      <td>2020.000000</td>\n",
       "    </tr>\n",
       "  </tbody>\n",
       "</table>\n",
       "</div>"
      ],
      "text/plain": [
       "        acousticness   danceability   duration_ms         energy  \\\n",
       "count  169909.000000  169909.000000  1.699090e+05  169909.000000   \n",
       "mean        0.493214       0.538150  2.314062e+05       0.488593   \n",
       "std         0.376627       0.175346  1.213219e+05       0.267390   \n",
       "min         0.000000       0.000000  5.108000e+03       0.000000   \n",
       "25%         0.094500       0.417000  1.710400e+05       0.263000   \n",
       "50%         0.492000       0.548000  2.086000e+05       0.481000   \n",
       "75%         0.888000       0.667000  2.629600e+05       0.710000   \n",
       "max         0.996000       0.988000  5.403500e+06       1.000000   \n",
       "\n",
       "            explicit  instrumentalness            key       liveness  \\\n",
       "count  169909.000000     169909.000000  169909.000000  169909.000000   \n",
       "mean        0.084863          0.161937       5.200519       0.206690   \n",
       "std         0.278679          0.309329       3.515257       0.176796   \n",
       "min         0.000000          0.000000       0.000000       0.000000   \n",
       "25%         0.000000          0.000000       2.000000       0.098400   \n",
       "50%         0.000000          0.000204       5.000000       0.135000   \n",
       "75%         0.000000          0.086800       8.000000       0.263000   \n",
       "max         1.000000          1.000000      11.000000       1.000000   \n",
       "\n",
       "            loudness           mode     popularity    speechiness  \\\n",
       "count  169909.000000  169909.000000  169909.000000  169909.000000   \n",
       "mean      -11.370289       0.708556      31.556610       0.094058   \n",
       "std         5.666765       0.454429      21.582614       0.149937   \n",
       "min       -60.000000       0.000000       0.000000       0.000000   \n",
       "25%       -14.470000       0.000000      12.000000       0.034900   \n",
       "50%       -10.474000       1.000000      33.000000       0.045000   \n",
       "75%        -7.118000       1.000000      48.000000       0.075400   \n",
       "max         3.855000       1.000000     100.000000       0.969000   \n",
       "\n",
       "               tempo        valence           year  \n",
       "count  169909.000000  169909.000000  169909.000000  \n",
       "mean      116.948017       0.532095    1977.223231  \n",
       "std        30.726937       0.262408      25.593168  \n",
       "min         0.000000       0.000000    1921.000000  \n",
       "25%        93.516000       0.322000    1957.000000  \n",
       "50%       114.778000       0.544000    1978.000000  \n",
       "75%       135.712000       0.749000    1999.000000  \n",
       "max       244.091000       1.000000    2020.000000  "
      ]
     },
     "execution_count": 6,
     "metadata": {},
     "output_type": "execute_result"
    }
   ],
   "source": [
    "df.describe()"
   ]
  },
  {
   "cell_type": "code",
   "execution_count": 7,
   "metadata": {},
   "outputs": [
    {
     "data": {
      "text/plain": [
       "acousticness        0\n",
       "artists             0\n",
       "danceability        0\n",
       "duration_ms         0\n",
       "energy              0\n",
       "explicit            0\n",
       "id                  0\n",
       "instrumentalness    0\n",
       "key                 0\n",
       "liveness            0\n",
       "loudness            0\n",
       "mode                0\n",
       "name                0\n",
       "popularity          0\n",
       "release_date        0\n",
       "speechiness         0\n",
       "tempo               0\n",
       "valence             0\n",
       "year                0\n",
       "dtype: int64"
      ]
     },
     "execution_count": 7,
     "metadata": {},
     "output_type": "execute_result"
    }
   ],
   "source": [
    "df.isna().sum()   "
   ]
  },
  {
   "cell_type": "markdown",
   "metadata": {},
   "source": [
    "## Univariate Analysis"
   ]
  },
  {
   "cell_type": "markdown",
   "metadata": {},
   "source": [
    "### Acousticness"
   ]
  },
  {
   "cell_type": "code",
   "execution_count": 7,
   "metadata": {},
   "outputs": [
    {
     "data": {
      "text/plain": [
       "<seaborn.axisgrid.FacetGrid at 0x1e82f6d32b0>"
      ]
     },
     "execution_count": 7,
     "metadata": {},
     "output_type": "execute_result"
    },
    {
     "data": {
      "image/png": "[encoded data removed]",
      "text/plain": [
       "<Figure size 360x360 with 1 Axes>"
      ]
     },
     "metadata": {
      "needs_background": "light"
     },
     "output_type": "display_data"
    }
   ],
   "source": [
    "sns.displot(df['acousticness'], kde=True)"
   ]
  },
  {
   "cell_type": "code",
   "execution_count": 8,
   "metadata": {},
   "outputs": [
    {
     "data": {
      "text/plain": [
       "<seaborn.axisgrid.FacetGrid at 0x1e82f6c4fd0>"
      ]
     },
     "execution_count": 8,
     "metadata": {},
     "output_type": "execute_result"
    },
    {
     "data": {
      "image/png": "[encoded data removed]",
      "text/plain": [
       "<Figure size 360x360 with 1 Axes>"
      ]
     },
     "metadata": {
      "needs_background": "light"
     },
     "output_type": "display_data"
    }
   ],
   "source": [
    "sns.displot(df['danceability'], kde=True)"
   ]
  },
  {
   "cell_type": "code",
   "execution_count": 9,
   "metadata": {},
   "outputs": [
    {
     "data": {
      "text/plain": [
       "<seaborn.axisgrid.FacetGrid at 0x1e82f6d3490>"
      ]
     },
     "execution_count": 9,
     "metadata": {},
     "output_type": "execute_result"
    },
    {
     "data": {
      "image/png": "[encoded data removed]",
      "text/plain": [
       "<Figure size 360x360 with 1 Axes>"
      ]
     },
     "metadata": {
      "needs_background": "light"
     },
     "output_type": "display_data"
    }
   ],
   "source": [
    "sns.displot(df['duration_ms'], kde=True)"
   ]
  },
  {
   "cell_type": "code",
   "execution_count": 10,
   "metadata": {},
   "outputs": [
    {
     "data": {
      "text/plain": [
       "<seaborn.axisgrid.FacetGrid at 0x1e82f6c9250>"
      ]
     },
     "execution_count": 10,
     "metadata": {},
     "output_type": "execute_result"
    },
    {
     "data": {
      "image/png": "[encoded data removed]",
      "text/plain": [
       "<Figure size 360x360 with 1 Axes>"
      ]
     },
     "metadata": {
      "needs_background": "light"
     },
     "output_type": "display_data"
    }
   ],
   "source": [
    "sns.displot(df['energy'], kde=True)"
   ]
  },
  {
   "cell_type": "code",
   "execution_count": 12,
   "metadata": {},
   "outputs": [
    {
     "name": "stderr",
     "output_type": "stream",
     "text": [
      "C:\\Users\\Prathek\\anaconda3\\lib\\site-packages\\seaborn\\_decorators.py:36: FutureWarning: Pass the following variable as a keyword arg: x. From version 0.12, the only valid positional argument will be `data`, and passing other arguments without an explicit keyword will result in an error or misinterpretation.\n",
      "  warnings.warn(\n"
     ]
    },
    {
     "data": {
      "text/plain": [
       "<AxesSubplot:xlabel='explicit', ylabel='count'>"
      ]
     },
     "execution_count": 12,
     "metadata": {},
     "output_type": "execute_result"
    },
    {
     "data": {
      "image/png": "[encoded data removed]",
      "text/plain": [
       "<Figure size 432x288 with 1 Axes>"
      ]
     },
     "metadata": {
      "needs_background": "light"
     },
     "output_type": "display_data"
    }
   ],
   "source": [
    "sns.countplot(df['explicit'])"
   ]
  },
  {
   "cell_type": "code",
   "execution_count": 24,
   "metadata": {},
   "outputs": [
    {
     "data": {
      "text/plain": [
       "<seaborn.axisgrid.FacetGrid at 0x1e84011fe50>"
      ]
     },
     "execution_count": 24,
     "metadata": {},
     "output_type": "execute_result"
    },
    {
     "data": {
      "image/png": "[encoded data removed]",
      "text/plain": [
       "<Figure size 360x360 with 1 Axes>"
      ]
     },
     "metadata": {
      "needs_background": "light"
     },
     "output_type": "display_data"
    }
   ],
   "source": [
    "sns.displot(df['instrumentalness'][df['instrumentalness']!=0], kde=True)"
   ]
  },
  {
   "cell_type": "code",
   "execution_count": 14,
   "metadata": {},
   "outputs": [
    {
     "name": "stderr",
     "output_type": "stream",
     "text": [
      "C:\\Users\\Prathek\\anaconda3\\lib\\site-packages\\seaborn\\_decorators.py:36: FutureWarning: Pass the following variable as a keyword arg: x. From version 0.12, the only valid positional argument will be `data`, and passing other arguments without an explicit keyword will result in an error or misinterpretation.\n",
      "  warnings.warn(\n"
     ]
    },
    {
     "data": {
      "text/plain": [
       "<AxesSubplot:xlabel='key', ylabel='count'>"
      ]
     },
     "execution_count": 14,
     "metadata": {},
     "output_type": "execute_result"
    },
    {
     "data": {
      "image/png": "[encoded data removed]",
      "text/plain": [
       "<Figure size 432x288 with 1 Axes>"
      ]
     },
     "metadata": {
      "needs_background": "light"
     },
     "output_type": "display_data"
    }
   ],
   "source": [
    "sns.countplot(df['key'])"
   ]
  },
  {
   "cell_type": "code",
   "execution_count": 12,
   "metadata": {},
   "outputs": [
    {
     "data": {
      "text/plain": [
       "<seaborn.axisgrid.FacetGrid at 0x1e83887ff10>"
      ]
     },
     "execution_count": 12,
     "metadata": {},
     "output_type": "execute_result"
    },
    {
     "data": {
      "image/png": "[encoded data removed]",
      "text/plain": [
       "<Figure size 360x360 with 1 Axes>"
      ]
     },
     "metadata": {
      "needs_background": "light"
     },
     "output_type": "display_data"
    }
   ],
   "source": [
    "sns.displot(df['liveness'], kde=True)"
   ]
  },
  {
   "cell_type": "code",
   "execution_count": 13,
   "metadata": {},
   "outputs": [
    {
     "data": {
      "text/plain": [
       "<seaborn.axisgrid.FacetGrid at 0x1e82f6bea00>"
      ]
     },
     "execution_count": 13,
     "metadata": {},
     "output_type": "execute_result"
    },
    {
     "data": {
      "image/png": "[encoded data removed]",
      "text/plain": [
       "<Figure size 360x360 with 1 Axes>"
      ]
     },
     "metadata": {
      "needs_background": "light"
     },
     "output_type": "display_data"
    }
   ],
   "source": [
    "sns.displot(df['popularity'], kde=True)"
   ]
  },
  {
   "cell_type": "code",
   "execution_count": 14,
   "metadata": {},
   "outputs": [
    {
     "data": {
      "text/plain": [
       "<seaborn.axisgrid.FacetGrid at 0x1e83af24610>"
      ]
     },
     "execution_count": 14,
     "metadata": {},
     "output_type": "execute_result"
    },
    {
     "data": {
      "image/png": "[encoded data removed]",
      "text/plain": [
       "<Figure size 360x360 with 1 Axes>"
      ]
     },
     "metadata": {
      "needs_background": "light"
     },
     "output_type": "display_data"
    }
   ],
   "source": [
    "sns.displot(df['loudness'], kde=True)"
   ]
  },
  {
   "cell_type": "code",
   "execution_count": 15,
   "metadata": {},
   "outputs": [
    {
     "data": {
      "text/plain": [
       "<seaborn.axisgrid.FacetGrid at 0x1e83afe4580>"
      ]
     },
     "execution_count": 15,
     "metadata": {},
     "output_type": "execute_result"
    },
    {
     "data": {
      "image/png": "[encoded data removed]",
      "text/plain": [
       "<Figure size 360x360 with 1 Axes>"
      ]
     },
     "metadata": {
      "needs_background": "light"
     },
     "output_type": "display_data"
    }
   ],
   "source": [
    "sns.displot(df['speechiness'], kde=True)"
   ]
  },
  {
   "cell_type": "code",
   "execution_count": 16,
   "metadata": {},
   "outputs": [
    {
     "data": {
      "text/plain": [
       "<seaborn.axisgrid.FacetGrid at 0x1e83da08be0>"
      ]
     },
     "execution_count": 16,
     "metadata": {},
     "output_type": "execute_result"
    },
    {
     "data": {
      "image/png": "[encoded data removed]",
      "text/plain": [
       "<Figure size 360x360 with 1 Axes>"
      ]
     },
     "metadata": {
      "needs_background": "light"
     },
     "output_type": "display_data"
    }
   ],
   "source": [
    "sns.displot(df['tempo'], kde=True)"
   ]
  },
  {
   "cell_type": "code",
   "execution_count": 6,
   "metadata": {},
   "outputs": [
    {
     "data": {
      "text/plain": [
       "<seaborn.axisgrid.FacetGrid at 0x1e82f6d3370>"
      ]
     },
     "execution_count": 6,
     "metadata": {},
     "output_type": "execute_result"
    },
    {
     "data": {
      "image/png": "[encoded data removed]",
      "text/plain": [
       "<Figure size 360x360 with 1 Axes>"
      ]
     },
     "metadata": {
      "needs_background": "light"
     },
     "output_type": "display_data"
    }
   ],
   "source": [
    "sns.displot(df['valence'], kde=True)"
   ]
  },
  {
   "cell_type": "markdown",
   "metadata": {},
   "source": [
    "## Check features that are important"
   ]
  },
  {
   "cell_type": "code",
   "execution_count": 21,
   "metadata": {},
   "outputs": [
    {
     "data": {
      "text/html": [
       "<div>\n",
       "<style scoped>\n",
       "    .dataframe tbody tr th:only-of-type {\n",
       "        vertical-align: middle;\n",
       "    }\n",
       "\n",
       "    .dataframe tbody tr th {\n",
       "        vertical-align: top;\n",
       "    }\n",
       "\n",
       "    .dataframe thead th {\n",
       "        text-align: right;\n",
       "    }\n",
       "</style>\n",
       "<table border=\"1\" class=\"dataframe\">\n",
       "  <thead>\n",
       "    <tr style=\"text-align: right;\">\n",
       "      <th></th>\n",
       "      <th>acousticness</th>\n",
       "      <th>danceability</th>\n",
       "      <th>duration_ms</th>\n",
       "      <th>energy</th>\n",
       "      <th>explicit</th>\n",
       "      <th>instrumentalness</th>\n",
       "      <th>key</th>\n",
       "      <th>liveness</th>\n",
       "      <th>loudness</th>\n",
       "      <th>mode</th>\n",
       "      <th>popularity</th>\n",
       "      <th>speechiness</th>\n",
       "      <th>tempo</th>\n",
       "      <th>valence</th>\n",
       "      <th>year</th>\n",
       "    </tr>\n",
       "  </thead>\n",
       "  <tbody>\n",
       "    <tr>\n",
       "      <th>acousticness</th>\n",
       "      <td>1.000000</td>\n",
       "      <td>-0.265950</td>\n",
       "      <td>-0.079311</td>\n",
       "      <td>-0.750283</td>\n",
       "      <td>-0.253690</td>\n",
       "      <td>0.335821</td>\n",
       "      <td>-0.021686</td>\n",
       "      <td>-0.023871</td>\n",
       "      <td>-0.567072</td>\n",
       "      <td>0.046475</td>\n",
       "      <td>-0.593345</td>\n",
       "      <td>-0.056077</td>\n",
       "      <td>-0.204982</td>\n",
       "      <td>-0.185540</td>\n",
       "      <td>-0.624550</td>\n",
       "    </tr>\n",
       "    <tr>\n",
       "      <th>danceability</th>\n",
       "      <td>-0.265950</td>\n",
       "      <td>1.000000</td>\n",
       "      <td>-0.134500</td>\n",
       "      <td>0.220569</td>\n",
       "      <td>0.241891</td>\n",
       "      <td>-0.281429</td>\n",
       "      <td>0.022599</td>\n",
       "      <td>-0.105532</td>\n",
       "      <td>0.294170</td>\n",
       "      <td>-0.045306</td>\n",
       "      <td>0.221077</td>\n",
       "      <td>0.225305</td>\n",
       "      <td>-0.004872</td>\n",
       "      <td>0.560242</td>\n",
       "      <td>0.203430</td>\n",
       "    </tr>\n",
       "    <tr>\n",
       "      <th>duration_ms</th>\n",
       "      <td>-0.079311</td>\n",
       "      <td>-0.134500</td>\n",
       "      <td>1.000000</td>\n",
       "      <td>0.036396</td>\n",
       "      <td>-0.043811</td>\n",
       "      <td>0.084814</td>\n",
       "      <td>-0.003116</td>\n",
       "      <td>0.034270</td>\n",
       "      <td>-0.014687</td>\n",
       "      <td>-0.046981</td>\n",
       "      <td>0.063292</td>\n",
       "      <td>-0.058449</td>\n",
       "      <td>-0.028816</td>\n",
       "      <td>-0.198760</td>\n",
       "      <td>0.076293</td>\n",
       "    </tr>\n",
       "    <tr>\n",
       "      <th>energy</th>\n",
       "      <td>-0.750283</td>\n",
       "      <td>0.220569</td>\n",
       "      <td>0.036396</td>\n",
       "      <td>1.000000</td>\n",
       "      <td>0.142677</td>\n",
       "      <td>-0.287692</td>\n",
       "      <td>0.029984</td>\n",
       "      <td>0.126293</td>\n",
       "      <td>0.782982</td>\n",
       "      <td>-0.038355</td>\n",
       "      <td>0.497488</td>\n",
       "      <td>-0.045226</td>\n",
       "      <td>0.249936</td>\n",
       "      <td>0.350086</td>\n",
       "      <td>0.532419</td>\n",
       "    </tr>\n",
       "    <tr>\n",
       "      <th>explicit</th>\n",
       "      <td>-0.253690</td>\n",
       "      <td>0.241891</td>\n",
       "      <td>-0.043811</td>\n",
       "      <td>0.142677</td>\n",
       "      <td>1.000000</td>\n",
       "      <td>-0.138292</td>\n",
       "      <td>0.008578</td>\n",
       "      <td>0.039272</td>\n",
       "      <td>0.152695</td>\n",
       "      <td>-0.083221</td>\n",
       "      <td>0.214044</td>\n",
       "      <td>0.413074</td>\n",
       "      <td>0.011484</td>\n",
       "      <td>-0.022327</td>\n",
       "      <td>0.245227</td>\n",
       "    </tr>\n",
       "    <tr>\n",
       "      <th>instrumentalness</th>\n",
       "      <td>0.335821</td>\n",
       "      <td>-0.281429</td>\n",
       "      <td>0.084814</td>\n",
       "      <td>-0.287692</td>\n",
       "      <td>-0.138292</td>\n",
       "      <td>1.000000</td>\n",
       "      <td>-0.014268</td>\n",
       "      <td>-0.047397</td>\n",
       "      <td>-0.417033</td>\n",
       "      <td>-0.035051</td>\n",
       "      <td>-0.299829</td>\n",
       "      <td>-0.115735</td>\n",
       "      <td>-0.107570</td>\n",
       "      <td>-0.193929</td>\n",
       "      <td>-0.291571</td>\n",
       "    </tr>\n",
       "    <tr>\n",
       "      <th>key</th>\n",
       "      <td>-0.021686</td>\n",
       "      <td>0.022599</td>\n",
       "      <td>-0.003116</td>\n",
       "      <td>0.029984</td>\n",
       "      <td>0.008578</td>\n",
       "      <td>-0.014268</td>\n",
       "      <td>1.000000</td>\n",
       "      <td>-0.000106</td>\n",
       "      <td>0.021920</td>\n",
       "      <td>-0.112766</td>\n",
       "      <td>0.010675</td>\n",
       "      <td>0.015225</td>\n",
       "      <td>0.003148</td>\n",
       "      <td>0.029064</td>\n",
       "      <td>0.012503</td>\n",
       "    </tr>\n",
       "    <tr>\n",
       "      <th>liveness</th>\n",
       "      <td>-0.023871</td>\n",
       "      <td>-0.105532</td>\n",
       "      <td>0.034270</td>\n",
       "      <td>0.126293</td>\n",
       "      <td>0.039272</td>\n",
       "      <td>-0.047397</td>\n",
       "      <td>-0.000106</td>\n",
       "      <td>1.000000</td>\n",
       "      <td>0.052985</td>\n",
       "      <td>0.005393</td>\n",
       "      <td>-0.075293</td>\n",
       "      <td>0.147667</td>\n",
       "      <td>0.008124</td>\n",
       "      <td>-0.000426</td>\n",
       "      <td>-0.055839</td>\n",
       "    </tr>\n",
       "    <tr>\n",
       "      <th>loudness</th>\n",
       "      <td>-0.567072</td>\n",
       "      <td>0.294170</td>\n",
       "      <td>-0.014687</td>\n",
       "      <td>0.782982</td>\n",
       "      <td>0.152695</td>\n",
       "      <td>-0.417033</td>\n",
       "      <td>0.021920</td>\n",
       "      <td>0.052985</td>\n",
       "      <td>1.000000</td>\n",
       "      <td>-0.013147</td>\n",
       "      <td>0.466546</td>\n",
       "      <td>-0.105796</td>\n",
       "      <td>0.211114</td>\n",
       "      <td>0.308418</td>\n",
       "      <td>0.490118</td>\n",
       "    </tr>\n",
       "    <tr>\n",
       "      <th>mode</th>\n",
       "      <td>0.046475</td>\n",
       "      <td>-0.045306</td>\n",
       "      <td>-0.046981</td>\n",
       "      <td>-0.038355</td>\n",
       "      <td>-0.083221</td>\n",
       "      <td>-0.035051</td>\n",
       "      <td>-0.112766</td>\n",
       "      <td>0.005393</td>\n",
       "      <td>-0.013147</td>\n",
       "      <td>1.000000</td>\n",
       "      <td>-0.032854</td>\n",
       "      <td>-0.057493</td>\n",
       "      <td>0.014539</td>\n",
       "      <td>0.014727</td>\n",
       "      <td>-0.033084</td>\n",
       "    </tr>\n",
       "    <tr>\n",
       "      <th>popularity</th>\n",
       "      <td>-0.593345</td>\n",
       "      <td>0.221077</td>\n",
       "      <td>0.063292</td>\n",
       "      <td>0.497488</td>\n",
       "      <td>0.214044</td>\n",
       "      <td>-0.299829</td>\n",
       "      <td>0.010675</td>\n",
       "      <td>-0.075293</td>\n",
       "      <td>0.466546</td>\n",
       "      <td>-0.032854</td>\n",
       "      <td>1.000000</td>\n",
       "      <td>-0.135707</td>\n",
       "      <td>0.135047</td>\n",
       "      <td>0.009327</td>\n",
       "      <td>0.880724</td>\n",
       "    </tr>\n",
       "    <tr>\n",
       "      <th>speechiness</th>\n",
       "      <td>-0.056077</td>\n",
       "      <td>0.225305</td>\n",
       "      <td>-0.058449</td>\n",
       "      <td>-0.045226</td>\n",
       "      <td>0.413074</td>\n",
       "      <td>-0.115735</td>\n",
       "      <td>0.015225</td>\n",
       "      <td>0.147667</td>\n",
       "      <td>-0.105796</td>\n",
       "      <td>-0.057493</td>\n",
       "      <td>-0.135707</td>\n",
       "      <td>1.000000</td>\n",
       "      <td>-0.010070</td>\n",
       "      <td>0.056383</td>\n",
       "      <td>-0.120937</td>\n",
       "    </tr>\n",
       "    <tr>\n",
       "      <th>tempo</th>\n",
       "      <td>-0.204982</td>\n",
       "      <td>-0.004872</td>\n",
       "      <td>-0.028816</td>\n",
       "      <td>0.249936</td>\n",
       "      <td>0.011484</td>\n",
       "      <td>-0.107570</td>\n",
       "      <td>0.003148</td>\n",
       "      <td>0.008124</td>\n",
       "      <td>0.211114</td>\n",
       "      <td>0.014539</td>\n",
       "      <td>0.135047</td>\n",
       "      <td>-0.010070</td>\n",
       "      <td>1.000000</td>\n",
       "      <td>0.171182</td>\n",
       "      <td>0.137892</td>\n",
       "    </tr>\n",
       "    <tr>\n",
       "      <th>valence</th>\n",
       "      <td>-0.185540</td>\n",
       "      <td>0.560242</td>\n",
       "      <td>-0.198760</td>\n",
       "      <td>0.350086</td>\n",
       "      <td>-0.022327</td>\n",
       "      <td>-0.193929</td>\n",
       "      <td>0.029064</td>\n",
       "      <td>-0.000426</td>\n",
       "      <td>0.308418</td>\n",
       "      <td>0.014727</td>\n",
       "      <td>0.009327</td>\n",
       "      <td>0.056383</td>\n",
       "      <td>0.171182</td>\n",
       "      <td>1.000000</td>\n",
       "      <td>-0.029304</td>\n",
       "    </tr>\n",
       "    <tr>\n",
       "      <th>year</th>\n",
       "      <td>-0.624550</td>\n",
       "      <td>0.203430</td>\n",
       "      <td>0.076293</td>\n",
       "      <td>0.532419</td>\n",
       "      <td>0.245227</td>\n",
       "      <td>-0.291571</td>\n",
       "      <td>0.012503</td>\n",
       "      <td>-0.055839</td>\n",
       "      <td>0.490118</td>\n",
       "      <td>-0.033084</td>\n",
       "      <td>0.880724</td>\n",
       "      <td>-0.120937</td>\n",
       "      <td>0.137892</td>\n",
       "      <td>-0.029304</td>\n",
       "      <td>1.000000</td>\n",
       "    </tr>\n",
       "  </tbody>\n",
       "</table>\n",
       "</div>"
      ],
      "text/plain": [
       "                  acousticness  danceability  duration_ms    energy  explicit  \\\n",
       "acousticness          1.000000     -0.265950    -0.079311 -0.750283 -0.253690   \n",
       "danceability         -0.265950      1.000000    -0.134500  0.220569  0.241891   \n",
       "duration_ms          -0.079311     -0.134500     1.000000  0.036396 -0.043811   \n",
       "energy               -0.750283      0.220569     0.036396  1.000000  0.142677   \n",
       "explicit             -0.253690      0.241891    -0.043811  0.142677  1.000000   \n",
       "instrumentalness      0.335821     -0.281429     0.084814 -0.287692 -0.138292   \n",
       "key                  -0.021686      0.022599    -0.003116  0.029984  0.008578   \n",
       "liveness             -0.023871     -0.105532     0.034270  0.126293  0.039272   \n",
       "loudness             -0.567072      0.294170    -0.014687  0.782982  0.152695   \n",
       "mode                  0.046475     -0.045306    -0.046981 -0.038355 -0.083221   \n",
       "popularity           -0.593345      0.221077     0.063292  0.497488  0.214044   \n",
       "speechiness          -0.056077      0.225305    -0.058449 -0.045226  0.413074   \n",
       "tempo                -0.204982     -0.004872    -0.028816  0.249936  0.011484   \n",
       "valence              -0.185540      0.560242    -0.198760  0.350086 -0.022327   \n",
       "year                 -0.624550      0.203430     0.076293  0.532419  0.245227   \n",
       "\n",
       "                  instrumentalness       key  liveness  loudness      mode  \\\n",
       "acousticness              0.335821 -0.021686 -0.023871 -0.567072  0.046475   \n",
       "danceability             -0.281429  0.022599 -0.105532  0.294170 -0.045306   \n",
       "duration_ms               0.084814 -0.003116  0.034270 -0.014687 -0.046981   \n",
       "energy                   -0.287692  0.029984  0.126293  0.782982 -0.038355   \n",
       "explicit                 -0.138292  0.008578  0.039272  0.152695 -0.083221   \n",
       "instrumentalness          1.000000 -0.014268 -0.047397 -0.417033 -0.035051   \n",
       "key                      -0.014268  1.000000 -0.000106  0.021920 -0.112766   \n",
       "liveness                 -0.047397 -0.000106  1.000000  0.052985  0.005393   \n",
       "loudness                 -0.417033  0.021920  0.052985  1.000000 -0.013147   \n",
       "mode                     -0.035051 -0.112766  0.005393 -0.013147  1.000000   \n",
       "popularity               -0.299829  0.010675 -0.075293  0.466546 -0.032854   \n",
       "speechiness              -0.115735  0.015225  0.147667 -0.105796 -0.057493   \n",
       "tempo                    -0.107570  0.003148  0.008124  0.211114  0.014539   \n",
       "valence                  -0.193929  0.029064 -0.000426  0.308418  0.014727   \n",
       "year                     -0.291571  0.012503 -0.055839  0.490118 -0.033084   \n",
       "\n",
       "                  popularity  speechiness     tempo   valence      year  \n",
       "acousticness       -0.593345    -0.056077 -0.204982 -0.185540 -0.624550  \n",
       "danceability        0.221077     0.225305 -0.004872  0.560242  0.203430  \n",
       "duration_ms         0.063292    -0.058449 -0.028816 -0.198760  0.076293  \n",
       "energy              0.497488    -0.045226  0.249936  0.350086  0.532419  \n",
       "explicit            0.214044     0.413074  0.011484 -0.022327  0.245227  \n",
       "instrumentalness   -0.299829    -0.115735 -0.107570 -0.193929 -0.291571  \n",
       "key                 0.010675     0.015225  0.003148  0.029064  0.012503  \n",
       "liveness           -0.075293     0.147667  0.008124 -0.000426 -0.055839  \n",
       "loudness            0.466546    -0.105796  0.211114  0.308418  0.490118  \n",
       "mode               -0.032854    -0.057493  0.014539  0.014727 -0.033084  \n",
       "popularity          1.000000    -0.135707  0.135047  0.009327  0.880724  \n",
       "speechiness        -0.135707     1.000000 -0.010070  0.056383 -0.120937  \n",
       "tempo               0.135047    -0.010070  1.000000  0.171182  0.137892  \n",
       "valence             0.009327     0.056383  0.171182  1.000000 -0.029304  \n",
       "year                0.880724    -0.120937  0.137892 -0.029304  1.000000  "
      ]
     },
     "execution_count": 21,
     "metadata": {},
     "output_type": "execute_result"
    }
   ],
   "source": [
    "cm = df.corr()\n",
    "cm"
   ]
  },
  {
   "cell_type": "code",
   "execution_count": 22,
   "metadata": {},
   "outputs": [
    {
     "data": {
      "image/png": "[encoded data removed]",
      "text/plain": [
       "<Figure size 720x576 with 2 Axes>"
      ]
     },
     "metadata": {
      "needs_background": "light"
     },
     "output_type": "display_data"
    }
   ],
   "source": [
    "# Print correlation matrix to understand relationship between variables\n",
    "matrix = df.corr()\n",
    "sns.heatmap(matrix, annot=True)\n",
    "plt.gcf().set_size_inches(10,8)"
   ]
  },
  {
   "cell_type": "code",
   "execution_count": 23,
   "metadata": {},
   "outputs": [
    {
     "data": {
      "text/plain": [
       "acousticness       -0.593345\n",
       "danceability        0.221077\n",
       "duration_ms         0.063292\n",
       "energy              0.497488\n",
       "explicit            0.214044\n",
       "instrumentalness   -0.299829\n",
       "key                 0.010675\n",
       "liveness           -0.075293\n",
       "loudness            0.466546\n",
       "mode               -0.032854\n",
       "popularity          1.000000\n",
       "speechiness        -0.135707\n",
       "tempo               0.135047\n",
       "valence             0.009327\n",
       "year                0.880724\n",
       "Name: popularity, dtype: float64"
      ]
     },
     "execution_count": 23,
     "metadata": {},
     "output_type": "execute_result"
    }
   ],
   "source": [
    "cm['popularity']"
   ]
  },
  {
   "cell_type": "markdown",
   "metadata": {},
   "source": [
    "## Bivariate Analysis"
   ]
  },
  {
   "cell_type": "markdown",
   "metadata": {},
   "source": [
    "## Mini Cluster"
   ]
  },
  {
   "cell_type": "code",
   "execution_count": 24,
   "metadata": {},
   "outputs": [
    {
     "data": {
      "text/html": [
       "<div>\n",
       "<style scoped>\n",
       "    .dataframe tbody tr th:only-of-type {\n",
       "        vertical-align: middle;\n",
       "    }\n",
       "\n",
       "    .dataframe tbody tr th {\n",
       "        vertical-align: top;\n",
       "    }\n",
       "\n",
       "    .dataframe thead th {\n",
       "        text-align: right;\n",
       "    }\n",
       "</style>\n",
       "<table border=\"1\" class=\"dataframe\">\n",
       "  <thead>\n",
       "    <tr style=\"text-align: right;\">\n",
       "      <th></th>\n",
       "      <th>acousticness</th>\n",
       "      <th>popularity</th>\n",
       "    </tr>\n",
       "  </thead>\n",
       "  <tbody>\n",
       "    <tr>\n",
       "      <th>0</th>\n",
       "      <td>0.995</td>\n",
       "      <td>0</td>\n",
       "    </tr>\n",
       "    <tr>\n",
       "      <th>1</th>\n",
       "      <td>0.994</td>\n",
       "      <td>0</td>\n",
       "    </tr>\n",
       "    <tr>\n",
       "      <th>2</th>\n",
       "      <td>0.604</td>\n",
       "      <td>0</td>\n",
       "    </tr>\n",
       "    <tr>\n",
       "      <th>3</th>\n",
       "      <td>0.995</td>\n",
       "      <td>0</td>\n",
       "    </tr>\n",
       "    <tr>\n",
       "      <th>4</th>\n",
       "      <td>0.990</td>\n",
       "      <td>1</td>\n",
       "    </tr>\n",
       "  </tbody>\n",
       "</table>\n",
       "</div>"
      ],
      "text/plain": [
       "   acousticness  popularity\n",
       "0         0.995           0\n",
       "1         0.994           0\n",
       "2         0.604           0\n",
       "3         0.995           0\n",
       "4         0.990           1"
      ]
     },
     "execution_count": 24,
     "metadata": {},
     "output_type": "execute_result"
    }
   ],
   "source": [
    "dfp = pd.read_csv('data.csv')\n",
    "dfp = dfp[['acousticness', 'popularity']]\n",
    "dfp.head()"
   ]
  },
  {
   "cell_type": "code",
   "execution_count": 25,
   "metadata": {},
   "outputs": [
    {
     "data": {
      "text/html": [
       "<div>\n",
       "<style scoped>\n",
       "    .dataframe tbody tr th:only-of-type {\n",
       "        vertical-align: middle;\n",
       "    }\n",
       "\n",
       "    .dataframe tbody tr th {\n",
       "        vertical-align: top;\n",
       "    }\n",
       "\n",
       "    .dataframe thead th {\n",
       "        text-align: right;\n",
       "    }\n",
       "</style>\n",
       "<table border=\"1\" class=\"dataframe\">\n",
       "  <thead>\n",
       "    <tr style=\"text-align: right;\">\n",
       "      <th></th>\n",
       "      <th>acousticness</th>\n",
       "      <th>popularity</th>\n",
       "    </tr>\n",
       "  </thead>\n",
       "  <tbody>\n",
       "    <tr>\n",
       "      <th>0</th>\n",
       "      <td>1.332319</td>\n",
       "      <td>-1.462135</td>\n",
       "    </tr>\n",
       "    <tr>\n",
       "      <th>1</th>\n",
       "      <td>1.329664</td>\n",
       "      <td>-1.462135</td>\n",
       "    </tr>\n",
       "    <tr>\n",
       "      <th>2</th>\n",
       "      <td>0.294154</td>\n",
       "      <td>-1.462135</td>\n",
       "    </tr>\n",
       "    <tr>\n",
       "      <th>3</th>\n",
       "      <td>1.332319</td>\n",
       "      <td>-1.462135</td>\n",
       "    </tr>\n",
       "    <tr>\n",
       "      <th>4</th>\n",
       "      <td>1.319044</td>\n",
       "      <td>-1.415802</td>\n",
       "    </tr>\n",
       "  </tbody>\n",
       "</table>\n",
       "</div>"
      ],
      "text/plain": [
       "   acousticness  popularity\n",
       "0      1.332319   -1.462135\n",
       "1      1.329664   -1.462135\n",
       "2      0.294154   -1.462135\n",
       "3      1.332319   -1.462135\n",
       "4      1.319044   -1.415802"
      ]
     },
     "execution_count": 25,
     "metadata": {},
     "output_type": "execute_result"
    }
   ],
   "source": [
    "dfp['acousticness'] = scale(dfp['acousticness'])\n",
    "dfp['popularity'] = scale(dfp['popularity'])\n",
    "dfp.head()"
   ]
  },
  {
   "cell_type": "code",
   "execution_count": 26,
   "metadata": {},
   "outputs": [
    {
     "name": "stdout",
     "output_type": "stream",
     "text": [
      "[2 2 6 ... 5 7 7]\n"
     ]
    }
   ],
   "source": [
    "clusterNum = 10\n",
    "k_means = KMeans(n_clusters = clusterNum, n_init = 10)\n",
    "k_means.fit(dfp)\n",
    "labels = k_means.labels_\n",
    "print(labels)"
   ]
  },
  {
   "cell_type": "code",
   "execution_count": 27,
   "metadata": {},
   "outputs": [
    {
     "data": {
      "text/html": [
       "<div>\n",
       "<style scoped>\n",
       "    .dataframe tbody tr th:only-of-type {\n",
       "        vertical-align: middle;\n",
       "    }\n",
       "\n",
       "    .dataframe tbody tr th {\n",
       "        vertical-align: top;\n",
       "    }\n",
       "\n",
       "    .dataframe thead th {\n",
       "        text-align: right;\n",
       "    }\n",
       "</style>\n",
       "<table border=\"1\" class=\"dataframe\">\n",
       "  <thead>\n",
       "    <tr style=\"text-align: right;\">\n",
       "      <th></th>\n",
       "      <th>acousticness</th>\n",
       "      <th>popularity</th>\n",
       "      <th>cluster</th>\n",
       "    </tr>\n",
       "  </thead>\n",
       "  <tbody>\n",
       "    <tr>\n",
       "      <th>0</th>\n",
       "      <td>1.332319</td>\n",
       "      <td>-1.462135</td>\n",
       "      <td>2</td>\n",
       "    </tr>\n",
       "    <tr>\n",
       "      <th>1</th>\n",
       "      <td>1.329664</td>\n",
       "      <td>-1.462135</td>\n",
       "      <td>2</td>\n",
       "    </tr>\n",
       "    <tr>\n",
       "      <th>2</th>\n",
       "      <td>0.294154</td>\n",
       "      <td>-1.462135</td>\n",
       "      <td>6</td>\n",
       "    </tr>\n",
       "    <tr>\n",
       "      <th>3</th>\n",
       "      <td>1.332319</td>\n",
       "      <td>-1.462135</td>\n",
       "      <td>2</td>\n",
       "    </tr>\n",
       "    <tr>\n",
       "      <th>4</th>\n",
       "      <td>1.319044</td>\n",
       "      <td>-1.415802</td>\n",
       "      <td>2</td>\n",
       "    </tr>\n",
       "  </tbody>\n",
       "</table>\n",
       "</div>"
      ],
      "text/plain": [
       "   acousticness  popularity  cluster\n",
       "0      1.332319   -1.462135        2\n",
       "1      1.329664   -1.462135        2\n",
       "2      0.294154   -1.462135        6\n",
       "3      1.332319   -1.462135        2\n",
       "4      1.319044   -1.415802        2"
      ]
     },
     "execution_count": 27,
     "metadata": {},
     "output_type": "execute_result"
    }
   ],
   "source": [
    "dfp[\"cluster\"] = labels\n",
    "dfp.head(5)"
   ]
  },
  {
   "cell_type": "code",
   "execution_count": 28,
   "metadata": {},
   "outputs": [
    {
     "data": {
      "text/html": [
       "<div>\n",
       "<style scoped>\n",
       "    .dataframe tbody tr th:only-of-type {\n",
       "        vertical-align: middle;\n",
       "    }\n",
       "\n",
       "    .dataframe tbody tr th {\n",
       "        vertical-align: top;\n",
       "    }\n",
       "\n",
       "    .dataframe thead th {\n",
       "        text-align: right;\n",
       "    }\n",
       "</style>\n",
       "<table border=\"1\" class=\"dataframe\">\n",
       "  <thead>\n",
       "    <tr style=\"text-align: right;\">\n",
       "      <th></th>\n",
       "      <th>acousticness</th>\n",
       "      <th>popularity</th>\n",
       "    </tr>\n",
       "    <tr>\n",
       "      <th>cluster</th>\n",
       "      <th></th>\n",
       "      <th></th>\n",
       "    </tr>\n",
       "  </thead>\n",
       "  <tbody>\n",
       "    <tr>\n",
       "      <th>0</th>\n",
       "      <td>0.904248</td>\n",
       "      <td>0.328939</td>\n",
       "    </tr>\n",
       "    <tr>\n",
       "      <th>1</th>\n",
       "      <td>-0.251423</td>\n",
       "      <td>0.726254</td>\n",
       "    </tr>\n",
       "    <tr>\n",
       "      <th>2</th>\n",
       "      <td>1.187533</td>\n",
       "      <td>-1.392954</td>\n",
       "    </tr>\n",
       "    <tr>\n",
       "      <th>3</th>\n",
       "      <td>-1.076630</td>\n",
       "      <td>-0.047812</td>\n",
       "    </tr>\n",
       "    <tr>\n",
       "      <th>4</th>\n",
       "      <td>-0.011424</td>\n",
       "      <td>-0.178509</td>\n",
       "    </tr>\n",
       "    <tr>\n",
       "      <th>5</th>\n",
       "      <td>0.638782</td>\n",
       "      <td>1.309651</td>\n",
       "    </tr>\n",
       "    <tr>\n",
       "      <th>6</th>\n",
       "      <td>-0.539162</td>\n",
       "      <td>-1.290314</td>\n",
       "    </tr>\n",
       "    <tr>\n",
       "      <th>7</th>\n",
       "      <td>-1.015426</td>\n",
       "      <td>1.543880</td>\n",
       "    </tr>\n",
       "    <tr>\n",
       "      <th>8</th>\n",
       "      <td>0.927595</td>\n",
       "      <td>-0.613161</td>\n",
       "    </tr>\n",
       "    <tr>\n",
       "      <th>9</th>\n",
       "      <td>-1.159412</td>\n",
       "      <td>0.715672</td>\n",
       "    </tr>\n",
       "  </tbody>\n",
       "</table>\n",
       "</div>"
      ],
      "text/plain": [
       "         acousticness  popularity\n",
       "cluster                          \n",
       "0            0.904248    0.328939\n",
       "1           -0.251423    0.726254\n",
       "2            1.187533   -1.392954\n",
       "3           -1.076630   -0.047812\n",
       "4           -0.011424   -0.178509\n",
       "5            0.638782    1.309651\n",
       "6           -0.539162   -1.290314\n",
       "7           -1.015426    1.543880\n",
       "8            0.927595   -0.613161\n",
       "9           -1.159412    0.715672"
      ]
     },
     "execution_count": 28,
     "metadata": {},
     "output_type": "execute_result"
    }
   ],
   "source": [
    "dfp.groupby('cluster').mean()"
   ]
  },
  {
   "cell_type": "code",
   "execution_count": 29,
   "metadata": {},
   "outputs": [
    {
     "data": {
      "image/png": "[encoded data removed]",
      "text/plain": [
       "<Figure size 432x288 with 1 Axes>"
      ]
     },
     "metadata": {
      "needs_background": "light"
     },
     "output_type": "display_data"
    }
   ],
   "source": [
    "plt.scatter(dfp['acousticness'], dfp['popularity'], c=labels.astype(np.float))\n",
    "plt.xlabel('Popularity', fontsize=18)\n",
    "plt.ylabel('Acousticness', fontsize=16)\n",
    "plt.show()"
   ]
  },
  {
   "cell_type": "markdown",
   "metadata": {},
   "source": [
    "## Modelling"
   ]
  },
  {
   "cell_type": "code",
   "execution_count": 30,
   "metadata": {},
   "outputs": [],
   "source": [
    "mdf = df[['acousticness','danceability','energy','instrumentalness','loudness', 'year', 'popularity']].copy()"
   ]
  },
  {
   "cell_type": "code",
   "execution_count": 31,
   "metadata": {},
   "outputs": [
    {
     "data": {
      "text/plain": [
       "Index(['acousticness', 'danceability', 'energy', 'instrumentalness',\n",
       "       'loudness', 'year', 'popularity'],\n",
       "      dtype='object')"
      ]
     },
     "execution_count": 31,
     "metadata": {},
     "output_type": "execute_result"
    }
   ],
   "source": [
    "mdf.columns"
   ]
  },
  {
   "cell_type": "code",
   "execution_count": 32,
   "metadata": {},
   "outputs": [
    {
     "data": {
      "text/html": [
       "<div>\n",
       "<style scoped>\n",
       "    .dataframe tbody tr th:only-of-type {\n",
       "        vertical-align: middle;\n",
       "    }\n",
       "\n",
       "    .dataframe tbody tr th {\n",
       "        vertical-align: top;\n",
       "    }\n",
       "\n",
       "    .dataframe thead th {\n",
       "        text-align: right;\n",
       "    }\n",
       "</style>\n",
       "<table border=\"1\" class=\"dataframe\">\n",
       "  <thead>\n",
       "    <tr style=\"text-align: right;\">\n",
       "      <th></th>\n",
       "      <th>acousticness</th>\n",
       "      <th>artists</th>\n",
       "      <th>danceability</th>\n",
       "      <th>duration_ms</th>\n",
       "      <th>energy</th>\n",
       "      <th>explicit</th>\n",
       "      <th>id</th>\n",
       "      <th>instrumentalness</th>\n",
       "      <th>key</th>\n",
       "      <th>liveness</th>\n",
       "      <th>loudness</th>\n",
       "      <th>mode</th>\n",
       "      <th>name</th>\n",
       "      <th>popularity</th>\n",
       "      <th>release_date</th>\n",
       "      <th>speechiness</th>\n",
       "      <th>tempo</th>\n",
       "      <th>valence</th>\n",
       "      <th>year</th>\n",
       "    </tr>\n",
       "  </thead>\n",
       "  <tbody>\n",
       "    <tr>\n",
       "      <th>0</th>\n",
       "      <td>0.995</td>\n",
       "      <td>['Carl Woitschach']</td>\n",
       "      <td>0.708</td>\n",
       "      <td>158648</td>\n",
       "      <td>0.1950</td>\n",
       "      <td>0</td>\n",
       "      <td>6KbQ3uYMLKb5jDxLF7wYDD</td>\n",
       "      <td>0.563</td>\n",
       "      <td>10</td>\n",
       "      <td>0.1510</td>\n",
       "      <td>-12.428</td>\n",
       "      <td>1</td>\n",
       "      <td>Singende Bataillone 1. Teil</td>\n",
       "      <td>0</td>\n",
       "      <td>1928</td>\n",
       "      <td>0.0506</td>\n",
       "      <td>118.469</td>\n",
       "      <td>0.7790</td>\n",
       "      <td>1928</td>\n",
       "    </tr>\n",
       "    <tr>\n",
       "      <th>1</th>\n",
       "      <td>0.994</td>\n",
       "      <td>['Robert Schumann', 'Vladimir Horowitz']</td>\n",
       "      <td>0.379</td>\n",
       "      <td>282133</td>\n",
       "      <td>0.0135</td>\n",
       "      <td>0</td>\n",
       "      <td>6KuQTIu1KoTTkLXKrwlLPV</td>\n",
       "      <td>0.901</td>\n",
       "      <td>8</td>\n",
       "      <td>0.0763</td>\n",
       "      <td>-28.454</td>\n",
       "      <td>1</td>\n",
       "      <td>Fantasiestücke, Op. 111: Più tosto lento</td>\n",
       "      <td>0</td>\n",
       "      <td>1928</td>\n",
       "      <td>0.0462</td>\n",
       "      <td>83.972</td>\n",
       "      <td>0.0767</td>\n",
       "      <td>1928</td>\n",
       "    </tr>\n",
       "    <tr>\n",
       "      <th>2</th>\n",
       "      <td>0.604</td>\n",
       "      <td>['Seweryn Goszczyński']</td>\n",
       "      <td>0.749</td>\n",
       "      <td>104300</td>\n",
       "      <td>0.2200</td>\n",
       "      <td>0</td>\n",
       "      <td>6L63VW0PibdM1HDSBoqnoM</td>\n",
       "      <td>0.000</td>\n",
       "      <td>5</td>\n",
       "      <td>0.1190</td>\n",
       "      <td>-19.924</td>\n",
       "      <td>0</td>\n",
       "      <td>Chapter 1.18 - Zamek kaniowski</td>\n",
       "      <td>0</td>\n",
       "      <td>1928</td>\n",
       "      <td>0.9290</td>\n",
       "      <td>107.177</td>\n",
       "      <td>0.8800</td>\n",
       "      <td>1928</td>\n",
       "    </tr>\n",
       "    <tr>\n",
       "      <th>3</th>\n",
       "      <td>0.995</td>\n",
       "      <td>['Francisco Canaro']</td>\n",
       "      <td>0.781</td>\n",
       "      <td>180760</td>\n",
       "      <td>0.1300</td>\n",
       "      <td>0</td>\n",
       "      <td>6M94FkXd15sOAOQYRnWPN8</td>\n",
       "      <td>0.887</td>\n",
       "      <td>1</td>\n",
       "      <td>0.1110</td>\n",
       "      <td>-14.734</td>\n",
       "      <td>0</td>\n",
       "      <td>Bebamos Juntos - Instrumental (Remasterizado)</td>\n",
       "      <td>0</td>\n",
       "      <td>1928-09-25</td>\n",
       "      <td>0.0926</td>\n",
       "      <td>108.003</td>\n",
       "      <td>0.7200</td>\n",
       "      <td>1928</td>\n",
       "    </tr>\n",
       "    <tr>\n",
       "      <th>4</th>\n",
       "      <td>0.990</td>\n",
       "      <td>['Frédéric Chopin', 'Vladimir Horowitz']</td>\n",
       "      <td>0.210</td>\n",
       "      <td>687733</td>\n",
       "      <td>0.2040</td>\n",
       "      <td>0</td>\n",
       "      <td>6N6tiFZ9vLTSOIxkj8qKrd</td>\n",
       "      <td>0.908</td>\n",
       "      <td>11</td>\n",
       "      <td>0.0980</td>\n",
       "      <td>-16.829</td>\n",
       "      <td>1</td>\n",
       "      <td>Polonaise-Fantaisie in A-Flat Major, Op. 61</td>\n",
       "      <td>1</td>\n",
       "      <td>1928</td>\n",
       "      <td>0.0424</td>\n",
       "      <td>62.149</td>\n",
       "      <td>0.0693</td>\n",
       "      <td>1928</td>\n",
       "    </tr>\n",
       "  </tbody>\n",
       "</table>\n",
       "</div>"
      ],
      "text/plain": [
       "   acousticness                                   artists  danceability  \\\n",
       "0         0.995                       ['Carl Woitschach']         0.708   \n",
       "1         0.994  ['Robert Schumann', 'Vladimir Horowitz']         0.379   \n",
       "2         0.604                   ['Seweryn Goszczyński']         0.749   \n",
       "3         0.995                      ['Francisco Canaro']         0.781   \n",
       "4         0.990  ['Frédéric Chopin', 'Vladimir Horowitz']         0.210   \n",
       "\n",
       "   duration_ms  energy  explicit                      id  instrumentalness  \\\n",
       "0       158648  0.1950         0  6KbQ3uYMLKb5jDxLF7wYDD             0.563   \n",
       "1       282133  0.0135         0  6KuQTIu1KoTTkLXKrwlLPV             0.901   \n",
       "2       104300  0.2200         0  6L63VW0PibdM1HDSBoqnoM             0.000   \n",
       "3       180760  0.1300         0  6M94FkXd15sOAOQYRnWPN8             0.887   \n",
       "4       687733  0.2040         0  6N6tiFZ9vLTSOIxkj8qKrd             0.908   \n",
       "\n",
       "   key  liveness  loudness  mode  \\\n",
       "0   10    0.1510   -12.428     1   \n",
       "1    8    0.0763   -28.454     1   \n",
       "2    5    0.1190   -19.924     0   \n",
       "3    1    0.1110   -14.734     0   \n",
       "4   11    0.0980   -16.829     1   \n",
       "\n",
       "                                            name  popularity release_date  \\\n",
       "0                    Singende Bataillone 1. Teil           0         1928   \n",
       "1       Fantasiestücke, Op. 111: Più tosto lento           0         1928   \n",
       "2                 Chapter 1.18 - Zamek kaniowski           0         1928   \n",
       "3  Bebamos Juntos - Instrumental (Remasterizado)           0   1928-09-25   \n",
       "4    Polonaise-Fantaisie in A-Flat Major, Op. 61           1         1928   \n",
       "\n",
       "   speechiness    tempo  valence  year  \n",
       "0       0.0506  118.469   0.7790  1928  \n",
       "1       0.0462   83.972   0.0767  1928  \n",
       "2       0.9290  107.177   0.8800  1928  \n",
       "3       0.0926  108.003   0.7200  1928  \n",
       "4       0.0424   62.149   0.0693  1928  "
      ]
     },
     "execution_count": 32,
     "metadata": {},
     "output_type": "execute_result"
    }
   ],
   "source": [
    "for i in mdf.columns:\n",
    "    mdf[i] = scale(mdf[i])\n",
    "df.head()"
   ]
  },
  {
   "cell_type": "code",
   "execution_count": 33,
   "metadata": {},
   "outputs": [
    {
     "name": "stdout",
     "output_type": "stream",
     "text": [
      "[54 39 72 ... 28 27 60]\n"
     ]
    }
   ],
   "source": [
    "clusterNum = 100\n",
    "k_means = KMeans(n_clusters = clusterNum, n_init = 1, max_iter=100)\n",
    "k_means.fit(mdf)\n",
    "labels = k_means.labels_\n",
    "print(labels)"
   ]
  },
  {
   "cell_type": "code",
   "execution_count": 34,
   "metadata": {},
   "outputs": [
    {
     "data": {
      "text/html": [
       "<div>\n",
       "<style scoped>\n",
       "    .dataframe tbody tr th:only-of-type {\n",
       "        vertical-align: middle;\n",
       "    }\n",
       "\n",
       "    .dataframe tbody tr th {\n",
       "        vertical-align: top;\n",
       "    }\n",
       "\n",
       "    .dataframe thead th {\n",
       "        text-align: right;\n",
       "    }\n",
       "</style>\n",
       "<table border=\"1\" class=\"dataframe\">\n",
       "  <thead>\n",
       "    <tr style=\"text-align: right;\">\n",
       "      <th></th>\n",
       "      <th>acousticness</th>\n",
       "      <th>artists</th>\n",
       "      <th>danceability</th>\n",
       "      <th>duration_ms</th>\n",
       "      <th>energy</th>\n",
       "      <th>explicit</th>\n",
       "      <th>id</th>\n",
       "      <th>instrumentalness</th>\n",
       "      <th>key</th>\n",
       "      <th>liveness</th>\n",
       "      <th>loudness</th>\n",
       "      <th>mode</th>\n",
       "      <th>name</th>\n",
       "      <th>popularity</th>\n",
       "      <th>release_date</th>\n",
       "      <th>speechiness</th>\n",
       "      <th>tempo</th>\n",
       "      <th>valence</th>\n",
       "      <th>year</th>\n",
       "      <th>cluster</th>\n",
       "    </tr>\n",
       "  </thead>\n",
       "  <tbody>\n",
       "    <tr>\n",
       "      <th>0</th>\n",
       "      <td>0.995</td>\n",
       "      <td>['Carl Woitschach']</td>\n",
       "      <td>0.708</td>\n",
       "      <td>158648</td>\n",
       "      <td>0.1950</td>\n",
       "      <td>0</td>\n",
       "      <td>6KbQ3uYMLKb5jDxLF7wYDD</td>\n",
       "      <td>0.563</td>\n",
       "      <td>10</td>\n",
       "      <td>0.1510</td>\n",
       "      <td>-12.428</td>\n",
       "      <td>1</td>\n",
       "      <td>Singende Bataillone 1. Teil</td>\n",
       "      <td>0</td>\n",
       "      <td>1928</td>\n",
       "      <td>0.0506</td>\n",
       "      <td>118.469</td>\n",
       "      <td>0.7790</td>\n",
       "      <td>1928</td>\n",
       "      <td>54</td>\n",
       "    </tr>\n",
       "    <tr>\n",
       "      <th>1</th>\n",
       "      <td>0.994</td>\n",
       "      <td>['Robert Schumann', 'Vladimir Horowitz']</td>\n",
       "      <td>0.379</td>\n",
       "      <td>282133</td>\n",
       "      <td>0.0135</td>\n",
       "      <td>0</td>\n",
       "      <td>6KuQTIu1KoTTkLXKrwlLPV</td>\n",
       "      <td>0.901</td>\n",
       "      <td>8</td>\n",
       "      <td>0.0763</td>\n",
       "      <td>-28.454</td>\n",
       "      <td>1</td>\n",
       "      <td>Fantasiestücke, Op. 111: Più tosto lento</td>\n",
       "      <td>0</td>\n",
       "      <td>1928</td>\n",
       "      <td>0.0462</td>\n",
       "      <td>83.972</td>\n",
       "      <td>0.0767</td>\n",
       "      <td>1928</td>\n",
       "      <td>39</td>\n",
       "    </tr>\n",
       "    <tr>\n",
       "      <th>2</th>\n",
       "      <td>0.604</td>\n",
       "      <td>['Seweryn Goszczyński']</td>\n",
       "      <td>0.749</td>\n",
       "      <td>104300</td>\n",
       "      <td>0.2200</td>\n",
       "      <td>0</td>\n",
       "      <td>6L63VW0PibdM1HDSBoqnoM</td>\n",
       "      <td>0.000</td>\n",
       "      <td>5</td>\n",
       "      <td>0.1190</td>\n",
       "      <td>-19.924</td>\n",
       "      <td>0</td>\n",
       "      <td>Chapter 1.18 - Zamek kaniowski</td>\n",
       "      <td>0</td>\n",
       "      <td>1928</td>\n",
       "      <td>0.9290</td>\n",
       "      <td>107.177</td>\n",
       "      <td>0.8800</td>\n",
       "      <td>1928</td>\n",
       "      <td>72</td>\n",
       "    </tr>\n",
       "    <tr>\n",
       "      <th>3</th>\n",
       "      <td>0.995</td>\n",
       "      <td>['Francisco Canaro']</td>\n",
       "      <td>0.781</td>\n",
       "      <td>180760</td>\n",
       "      <td>0.1300</td>\n",
       "      <td>0</td>\n",
       "      <td>6M94FkXd15sOAOQYRnWPN8</td>\n",
       "      <td>0.887</td>\n",
       "      <td>1</td>\n",
       "      <td>0.1110</td>\n",
       "      <td>-14.734</td>\n",
       "      <td>0</td>\n",
       "      <td>Bebamos Juntos - Instrumental (Remasterizado)</td>\n",
       "      <td>0</td>\n",
       "      <td>1928-09-25</td>\n",
       "      <td>0.0926</td>\n",
       "      <td>108.003</td>\n",
       "      <td>0.7200</td>\n",
       "      <td>1928</td>\n",
       "      <td>54</td>\n",
       "    </tr>\n",
       "    <tr>\n",
       "      <th>4</th>\n",
       "      <td>0.990</td>\n",
       "      <td>['Frédéric Chopin', 'Vladimir Horowitz']</td>\n",
       "      <td>0.210</td>\n",
       "      <td>687733</td>\n",
       "      <td>0.2040</td>\n",
       "      <td>0</td>\n",
       "      <td>6N6tiFZ9vLTSOIxkj8qKrd</td>\n",
       "      <td>0.908</td>\n",
       "      <td>11</td>\n",
       "      <td>0.0980</td>\n",
       "      <td>-16.829</td>\n",
       "      <td>1</td>\n",
       "      <td>Polonaise-Fantaisie in A-Flat Major, Op. 61</td>\n",
       "      <td>1</td>\n",
       "      <td>1928</td>\n",
       "      <td>0.0424</td>\n",
       "      <td>62.149</td>\n",
       "      <td>0.0693</td>\n",
       "      <td>1928</td>\n",
       "      <td>61</td>\n",
       "    </tr>\n",
       "  </tbody>\n",
       "</table>\n",
       "</div>"
      ],
      "text/plain": [
       "   acousticness                                   artists  danceability  \\\n",
       "0         0.995                       ['Carl Woitschach']         0.708   \n",
       "1         0.994  ['Robert Schumann', 'Vladimir Horowitz']         0.379   \n",
       "2         0.604                   ['Seweryn Goszczyński']         0.749   \n",
       "3         0.995                      ['Francisco Canaro']         0.781   \n",
       "4         0.990  ['Frédéric Chopin', 'Vladimir Horowitz']         0.210   \n",
       "\n",
       "   duration_ms  energy  explicit                      id  instrumentalness  \\\n",
       "0       158648  0.1950         0  6KbQ3uYMLKb5jDxLF7wYDD             0.563   \n",
       "1       282133  0.0135         0  6KuQTIu1KoTTkLXKrwlLPV             0.901   \n",
       "2       104300  0.2200         0  6L63VW0PibdM1HDSBoqnoM             0.000   \n",
       "3       180760  0.1300         0  6M94FkXd15sOAOQYRnWPN8             0.887   \n",
       "4       687733  0.2040         0  6N6tiFZ9vLTSOIxkj8qKrd             0.908   \n",
       "\n",
       "   key  liveness  loudness  mode  \\\n",
       "0   10    0.1510   -12.428     1   \n",
       "1    8    0.0763   -28.454     1   \n",
       "2    5    0.1190   -19.924     0   \n",
       "3    1    0.1110   -14.734     0   \n",
       "4   11    0.0980   -16.829     1   \n",
       "\n",
       "                                            name  popularity release_date  \\\n",
       "0                    Singende Bataillone 1. Teil           0         1928   \n",
       "1       Fantasiestücke, Op. 111: Più tosto lento           0         1928   \n",
       "2                 Chapter 1.18 - Zamek kaniowski           0         1928   \n",
       "3  Bebamos Juntos - Instrumental (Remasterizado)           0   1928-09-25   \n",
       "4    Polonaise-Fantaisie in A-Flat Major, Op. 61           1         1928   \n",
       "\n",
       "   speechiness    tempo  valence  year  cluster  \n",
       "0       0.0506  118.469   0.7790  1928       54  \n",
       "1       0.0462   83.972   0.0767  1928       39  \n",
       "2       0.9290  107.177   0.8800  1928       72  \n",
       "3       0.0926  108.003   0.7200  1928       54  \n",
       "4       0.0424   62.149   0.0693  1928       61  "
      ]
     },
     "execution_count": 34,
     "metadata": {},
     "output_type": "execute_result"
    }
   ],
   "source": [
    "df[\"cluster\"] = labels\n",
    "df.head(5)"
   ]
  },
  {
   "cell_type": "code",
   "execution_count": 35,
   "metadata": {},
   "outputs": [
    {
     "data": {
      "text/html": [
       "<div>\n",
       "<style scoped>\n",
       "    .dataframe tbody tr th:only-of-type {\n",
       "        vertical-align: middle;\n",
       "    }\n",
       "\n",
       "    .dataframe tbody tr th {\n",
       "        vertical-align: top;\n",
       "    }\n",
       "\n",
       "    .dataframe thead th {\n",
       "        text-align: right;\n",
       "    }\n",
       "</style>\n",
       "<table border=\"1\" class=\"dataframe\">\n",
       "  <thead>\n",
       "    <tr style=\"text-align: right;\">\n",
       "      <th></th>\n",
       "      <th>acousticness</th>\n",
       "      <th>danceability</th>\n",
       "      <th>duration_ms</th>\n",
       "      <th>energy</th>\n",
       "      <th>explicit</th>\n",
       "      <th>instrumentalness</th>\n",
       "      <th>key</th>\n",
       "      <th>liveness</th>\n",
       "      <th>loudness</th>\n",
       "      <th>mode</th>\n",
       "      <th>popularity</th>\n",
       "      <th>speechiness</th>\n",
       "      <th>tempo</th>\n",
       "      <th>valence</th>\n",
       "      <th>year</th>\n",
       "    </tr>\n",
       "    <tr>\n",
       "      <th>cluster</th>\n",
       "      <th></th>\n",
       "      <th></th>\n",
       "      <th></th>\n",
       "      <th></th>\n",
       "      <th></th>\n",
       "      <th></th>\n",
       "      <th></th>\n",
       "      <th></th>\n",
       "      <th></th>\n",
       "      <th></th>\n",
       "      <th></th>\n",
       "      <th></th>\n",
       "      <th></th>\n",
       "      <th></th>\n",
       "      <th></th>\n",
       "    </tr>\n",
       "  </thead>\n",
       "  <tbody>\n",
       "    <tr>\n",
       "      <th>0</th>\n",
       "      <td>0.732748</td>\n",
       "      <td>0.717969</td>\n",
       "      <td>166500.933445</td>\n",
       "      <td>0.438165</td>\n",
       "      <td>0.001119</td>\n",
       "      <td>0.017308</td>\n",
       "      <td>5.176174</td>\n",
       "      <td>0.187980</td>\n",
       "      <td>-10.524247</td>\n",
       "      <td>0.788591</td>\n",
       "      <td>19.442394</td>\n",
       "      <td>0.073549</td>\n",
       "      <td>112.748844</td>\n",
       "      <td>0.771672</td>\n",
       "      <td>1961.191834</td>\n",
       "    </tr>\n",
       "    <tr>\n",
       "      <th>1</th>\n",
       "      <td>0.098646</td>\n",
       "      <td>0.619288</td>\n",
       "      <td>242848.336002</td>\n",
       "      <td>0.680719</td>\n",
       "      <td>0.193357</td>\n",
       "      <td>0.009348</td>\n",
       "      <td>5.268980</td>\n",
       "      <td>0.197694</td>\n",
       "      <td>-6.766041</td>\n",
       "      <td>0.695136</td>\n",
       "      <td>46.527580</td>\n",
       "      <td>0.088519</td>\n",
       "      <td>120.052050</td>\n",
       "      <td>0.563290</td>\n",
       "      <td>2004.342823</td>\n",
       "    </tr>\n",
       "    <tr>\n",
       "      <th>2</th>\n",
       "      <td>0.961086</td>\n",
       "      <td>0.617574</td>\n",
       "      <td>181861.678152</td>\n",
       "      <td>0.155914</td>\n",
       "      <td>0.000733</td>\n",
       "      <td>0.841225</td>\n",
       "      <td>5.199413</td>\n",
       "      <td>0.148762</td>\n",
       "      <td>-19.556005</td>\n",
       "      <td>0.683284</td>\n",
       "      <td>3.128299</td>\n",
       "      <td>0.089471</td>\n",
       "      <td>109.507173</td>\n",
       "      <td>0.572881</td>\n",
       "      <td>1944.485337</td>\n",
       "    </tr>\n",
       "    <tr>\n",
       "      <th>3</th>\n",
       "      <td>0.639531</td>\n",
       "      <td>0.331507</td>\n",
       "      <td>254885.395802</td>\n",
       "      <td>0.384489</td>\n",
       "      <td>0.032234</td>\n",
       "      <td>0.015681</td>\n",
       "      <td>5.122189</td>\n",
       "      <td>0.215221</td>\n",
       "      <td>-9.527169</td>\n",
       "      <td>0.766117</td>\n",
       "      <td>50.071214</td>\n",
       "      <td>0.041864</td>\n",
       "      <td>122.123213</td>\n",
       "      <td>0.285930</td>\n",
       "      <td>2002.146927</td>\n",
       "    </tr>\n",
       "    <tr>\n",
       "      <th>4</th>\n",
       "      <td>0.949060</td>\n",
       "      <td>0.426242</td>\n",
       "      <td>207355.454933</td>\n",
       "      <td>0.111949</td>\n",
       "      <td>0.000000</td>\n",
       "      <td>0.043501</td>\n",
       "      <td>5.214400</td>\n",
       "      <td>0.216623</td>\n",
       "      <td>-19.296525</td>\n",
       "      <td>0.732267</td>\n",
       "      <td>3.024000</td>\n",
       "      <td>0.075702</td>\n",
       "      <td>105.978014</td>\n",
       "      <td>0.328851</td>\n",
       "      <td>1947.978667</td>\n",
       "    </tr>\n",
       "    <tr>\n",
       "      <th>...</th>\n",
       "      <td>...</td>\n",
       "      <td>...</td>\n",
       "      <td>...</td>\n",
       "      <td>...</td>\n",
       "      <td>...</td>\n",
       "      <td>...</td>\n",
       "      <td>...</td>\n",
       "      <td>...</td>\n",
       "      <td>...</td>\n",
       "      <td>...</td>\n",
       "      <td>...</td>\n",
       "      <td>...</td>\n",
       "      <td>...</td>\n",
       "      <td>...</td>\n",
       "      <td>...</td>\n",
       "    </tr>\n",
       "    <tr>\n",
       "      <th>95</th>\n",
       "      <td>0.105253</td>\n",
       "      <td>0.600481</td>\n",
       "      <td>245440.998335</td>\n",
       "      <td>0.818978</td>\n",
       "      <td>0.029412</td>\n",
       "      <td>0.019997</td>\n",
       "      <td>5.314650</td>\n",
       "      <td>0.200341</td>\n",
       "      <td>-7.239042</td>\n",
       "      <td>0.713097</td>\n",
       "      <td>56.687569</td>\n",
       "      <td>0.055286</td>\n",
       "      <td>123.288750</td>\n",
       "      <td>0.702893</td>\n",
       "      <td>1983.480577</td>\n",
       "    </tr>\n",
       "    <tr>\n",
       "      <th>96</th>\n",
       "      <td>0.860233</td>\n",
       "      <td>0.449079</td>\n",
       "      <td>221718.163934</td>\n",
       "      <td>0.185888</td>\n",
       "      <td>0.043141</td>\n",
       "      <td>0.023551</td>\n",
       "      <td>4.924072</td>\n",
       "      <td>0.156572</td>\n",
       "      <td>-14.517574</td>\n",
       "      <td>0.804142</td>\n",
       "      <td>53.768766</td>\n",
       "      <td>0.048533</td>\n",
       "      <td>115.045194</td>\n",
       "      <td>0.291847</td>\n",
       "      <td>2005.663503</td>\n",
       "    </tr>\n",
       "    <tr>\n",
       "      <th>97</th>\n",
       "      <td>0.461543</td>\n",
       "      <td>0.711947</td>\n",
       "      <td>232731.757206</td>\n",
       "      <td>0.770883</td>\n",
       "      <td>0.130266</td>\n",
       "      <td>0.007272</td>\n",
       "      <td>5.388027</td>\n",
       "      <td>0.192316</td>\n",
       "      <td>-6.020336</td>\n",
       "      <td>0.697894</td>\n",
       "      <td>45.861973</td>\n",
       "      <td>0.090630</td>\n",
       "      <td>117.536039</td>\n",
       "      <td>0.777702</td>\n",
       "      <td>1999.018847</td>\n",
       "    </tr>\n",
       "    <tr>\n",
       "      <th>98</th>\n",
       "      <td>0.845902</td>\n",
       "      <td>0.464512</td>\n",
       "      <td>214969.902988</td>\n",
       "      <td>0.240652</td>\n",
       "      <td>0.000409</td>\n",
       "      <td>0.015165</td>\n",
       "      <td>4.975440</td>\n",
       "      <td>0.204998</td>\n",
       "      <td>-13.539712</td>\n",
       "      <td>0.746623</td>\n",
       "      <td>18.946787</td>\n",
       "      <td>0.050140</td>\n",
       "      <td>112.895778</td>\n",
       "      <td>0.435415</td>\n",
       "      <td>1961.324601</td>\n",
       "    </tr>\n",
       "    <tr>\n",
       "      <th>99</th>\n",
       "      <td>0.932770</td>\n",
       "      <td>0.568486</td>\n",
       "      <td>187323.904174</td>\n",
       "      <td>0.295119</td>\n",
       "      <td>0.000334</td>\n",
       "      <td>0.027209</td>\n",
       "      <td>5.276795</td>\n",
       "      <td>0.230088</td>\n",
       "      <td>-10.762390</td>\n",
       "      <td>0.707846</td>\n",
       "      <td>2.279132</td>\n",
       "      <td>0.100324</td>\n",
       "      <td>114.646900</td>\n",
       "      <td>0.646180</td>\n",
       "      <td>1944.409015</td>\n",
       "    </tr>\n",
       "  </tbody>\n",
       "</table>\n",
       "<p>100 rows × 15 columns</p>\n",
       "</div>"
      ],
      "text/plain": [
       "         acousticness  danceability    duration_ms    energy  explicit  \\\n",
       "cluster                                                                  \n",
       "0            0.732748      0.717969  166500.933445  0.438165  0.001119   \n",
       "1            0.098646      0.619288  242848.336002  0.680719  0.193357   \n",
       "2            0.961086      0.617574  181861.678152  0.155914  0.000733   \n",
       "3            0.639531      0.331507  254885.395802  0.384489  0.032234   \n",
       "4            0.949060      0.426242  207355.454933  0.111949  0.000000   \n",
       "...               ...           ...            ...       ...       ...   \n",
       "95           0.105253      0.600481  245440.998335  0.818978  0.029412   \n",
       "96           0.860233      0.449079  221718.163934  0.185888  0.043141   \n",
       "97           0.461543      0.711947  232731.757206  0.770883  0.130266   \n",
       "98           0.845902      0.464512  214969.902988  0.240652  0.000409   \n",
       "99           0.932770      0.568486  187323.904174  0.295119  0.000334   \n",
       "\n",
       "         instrumentalness       key  liveness   loudness      mode  \\\n",
       "cluster                                                              \n",
       "0                0.017308  5.176174  0.187980 -10.524247  0.788591   \n",
       "1                0.009348  5.268980  0.197694  -6.766041  0.695136   \n",
       "2                0.841225  5.199413  0.148762 -19.556005  0.683284   \n",
       "3                0.015681  5.122189  0.215221  -9.527169  0.766117   \n",
       "4                0.043501  5.214400  0.216623 -19.296525  0.732267   \n",
       "...                   ...       ...       ...        ...       ...   \n",
       "95               0.019997  5.314650  0.200341  -7.239042  0.713097   \n",
       "96               0.023551  4.924072  0.156572 -14.517574  0.804142   \n",
       "97               0.007272  5.388027  0.192316  -6.020336  0.697894   \n",
       "98               0.015165  4.975440  0.204998 -13.539712  0.746623   \n",
       "99               0.027209  5.276795  0.230088 -10.762390  0.707846   \n",
       "\n",
       "         popularity  speechiness       tempo   valence         year  \n",
       "cluster                                                              \n",
       "0         19.442394     0.073549  112.748844  0.771672  1961.191834  \n",
       "1         46.527580     0.088519  120.052050  0.563290  2004.342823  \n",
       "2          3.128299     0.089471  109.507173  0.572881  1944.485337  \n",
       "3         50.071214     0.041864  122.123213  0.285930  2002.146927  \n",
       "4          3.024000     0.075702  105.978014  0.328851  1947.978667  \n",
       "...             ...          ...         ...       ...          ...  \n",
       "95        56.687569     0.055286  123.288750  0.702893  1983.480577  \n",
       "96        53.768766     0.048533  115.045194  0.291847  2005.663503  \n",
       "97        45.861973     0.090630  117.536039  0.777702  1999.018847  \n",
       "98        18.946787     0.050140  112.895778  0.435415  1961.324601  \n",
       "99         2.279132     0.100324  114.646900  0.646180  1944.409015  \n",
       "\n",
       "[100 rows x 15 columns]"
      ]
     },
     "execution_count": 35,
     "metadata": {},
     "output_type": "execute_result"
    }
   ],
   "source": [
    "df.groupby('cluster').mean()"
   ]
  },
  {
   "cell_type": "code",
   "execution_count": 36,
   "metadata": {},
   "outputs": [
    {
     "data": {
      "image/png": "[encoded data removed]",
      "text/plain": [
       "<Figure size 432x288 with 1 Axes>"
      ]
     },
     "metadata": {
      "needs_background": "light"
     },
     "output_type": "display_data"
    }
   ],
   "source": [
    "x = plt.bar([i for i in range(1, clusterNum+1)], df.cluster.value_counts())"
   ]
  },
  {
   "cell_type": "code",
   "execution_count": 37,
   "metadata": {},
   "outputs": [],
   "source": [
    "df.to_csv('song_cluster.csv', index=False)"
   ]
  }
 ],
 "metadata": {
  "kernelspec": {
   "display_name": "Python 3",
   "language": "python",
   "name": "python3"
  },
  "language_info": {
   "codemirror_mode": {
    "name": "ipython",
    "version": 3
   },
   "file_extension": ".py",
   "mimetype": "text/x-python",
   "name": "python",
   "nbconvert_exporter": "python",
   "pygments_lexer": "ipython3",
   "version": "3.8.5"
  }
 },
 "nbformat": 4,
 "nbformat_minor": 4
}
